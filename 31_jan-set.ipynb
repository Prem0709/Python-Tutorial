{
 "cells": [
  {
   "cell_type": "markdown",
   "id": "ccbfdb30-7a5e-4a15-aeac-0f8ae1436b50",
   "metadata": {},
   "source": [
    "# 31_jan\n",
    "# set"
   ]
  },
  {
   "cell_type": "code",
   "execution_count": 6,
   "id": "4ab6cfdb-b2b0-4aa1-8bc9-a421fac90ac7",
   "metadata": {},
   "outputs": [],
   "source": [
    " s = {} # declare dict"
   ]
  },
  {
   "cell_type": "code",
   "execution_count": 8,
   "id": "d5f4b9a2-c640-41d0-878e-5f4277e889e1",
   "metadata": {},
   "outputs": [
    {
     "data": {
      "text/plain": [
       "dict"
      ]
     },
     "execution_count": 8,
     "metadata": {},
     "output_type": "execute_result"
    }
   ],
   "source": [
    "type(s)"
   ]
  },
  {
   "cell_type": "code",
   "execution_count": 16,
   "id": "62890bbd-46b2-4dd9-a996-b95b736c26da",
   "metadata": {},
   "outputs": [
    {
     "name": "stdout",
     "output_type": "stream",
     "text": [
      "set()\n"
     ]
    },
    {
     "data": {
      "text/plain": [
       "set"
      ]
     },
     "execution_count": 16,
     "metadata": {},
     "output_type": "execute_result"
    }
   ],
   "source": [
    "s1 = set()\n",
    "print(s1)\n",
    "type(s1)"
   ]
  },
  {
   "cell_type": "code",
   "execution_count": 18,
   "id": "8e200d2b-d37e-4d19-977e-23670d38e422",
   "metadata": {},
   "outputs": [
    {
     "data": {
      "text/plain": [
       "list"
      ]
     },
     "execution_count": 18,
     "metadata": {},
     "output_type": "execute_result"
    }
   ],
   "source": [
    "l10 = list()\n",
    "type(l10)"
   ]
  },
  {
   "cell_type": "code",
   "execution_count": 20,
   "id": "7fb1f6c2-e1f2-4753-87e5-9f93e6138ea6",
   "metadata": {},
   "outputs": [
    {
     "data": {
      "text/plain": [
       "set()"
      ]
     },
     "execution_count": 20,
     "metadata": {},
     "output_type": "execute_result"
    }
   ],
   "source": [
    "s1"
   ]
  },
  {
   "cell_type": "code",
   "execution_count": 22,
   "id": "5aa87d50-b39e-481d-8102-f291e3dfa4ed",
   "metadata": {},
   "outputs": [
    {
     "data": {
      "text/plain": [
       "{1, 3, 10, 20, 200}"
      ]
     },
     "execution_count": 22,
     "metadata": {},
     "output_type": "execute_result"
    }
   ],
   "source": [
    "s2 = {200, 3, 1, 20, 10, 10}\n",
    "s2"
   ]
  },
  {
   "cell_type": "code",
   "execution_count": 24,
   "id": "681835be-57e3-43d3-a560-510e87d9c9d0",
   "metadata": {},
   "outputs": [
    {
     "data": {
      "text/plain": [
       "set"
      ]
     },
     "execution_count": 24,
     "metadata": {},
     "output_type": "execute_result"
    }
   ],
   "source": [
    "type(s2)"
   ]
  },
  {
   "cell_type": "code",
   "execution_count": 26,
   "id": "98ef79bf-9ec7-4101-973a-2aa2144afc38",
   "metadata": {},
   "outputs": [
    {
     "data": {
      "text/plain": [
       "{(1+2j), 1, 3.3, 'm'}"
      ]
     },
     "execution_count": 26,
     "metadata": {},
     "output_type": "execute_result"
    }
   ],
   "source": [
    "s4 = {1, 'm', 3.3, 1+2j}\n",
    "s4"
   ]
  },
  {
   "cell_type": "code",
   "execution_count": 28,
   "id": "28231e3a-69b4-4b27-9c36-b88bdb8de500",
   "metadata": {},
   "outputs": [],
   "source": [
    "s4.add(400)"
   ]
  },
  {
   "cell_type": "code",
   "execution_count": 30,
   "id": "3102c345-f854-47e9-88e3-560ae72019a6",
   "metadata": {},
   "outputs": [
    {
     "data": {
      "text/plain": [
       "{(1+2j), 1, 3.3, 400, 'm'}"
      ]
     },
     "execution_count": 30,
     "metadata": {},
     "output_type": "execute_result"
    }
   ],
   "source": [
    "s4"
   ]
  },
  {
   "cell_type": "code",
   "execution_count": 32,
   "id": "93dc687c-0c17-4af9-95ee-7b11284b9694",
   "metadata": {},
   "outputs": [
    {
     "ename": "TypeError",
     "evalue": "set.add() takes exactly one argument (2 given)",
     "output_type": "error",
     "traceback": [
      "\u001b[1;31m---------------------------------------------------------------------------\u001b[0m",
      "\u001b[1;31mTypeError\u001b[0m                                 Traceback (most recent call last)",
      "Cell \u001b[1;32mIn[32], line 1\u001b[0m\n\u001b[1;32m----> 1\u001b[0m s4\u001b[38;5;241m.\u001b[39madd(\u001b[38;5;241m1000\u001b[39m, \u001b[38;5;241m2000\u001b[39m)\n",
      "\u001b[1;31mTypeError\u001b[0m: set.add() takes exactly one argument (2 given)"
     ]
    }
   ],
   "source": [
    "s4.add(1000, 2000)"
   ]
  },
  {
   "cell_type": "code",
   "execution_count": 34,
   "id": "31ff907d-e087-402c-b72e-74c09c30bcac",
   "metadata": {},
   "outputs": [],
   "source": [
    "s3 = {'m', 'n ', 'o'}"
   ]
  },
  {
   "cell_type": "code",
   "execution_count": 36,
   "id": "2a5ca12b-ba49-4abf-9e29-76590241a5ac",
   "metadata": {},
   "outputs": [
    {
     "data": {
      "text/plain": [
       "{(1+2j), 1, 3.3, 400, 'm'}"
      ]
     },
     "execution_count": 36,
     "metadata": {},
     "output_type": "execute_result"
    }
   ],
   "source": [
    "s4"
   ]
  },
  {
   "cell_type": "code",
   "execution_count": 38,
   "id": "f31ed255-717a-41f8-9be1-ce16b16d8377",
   "metadata": {},
   "outputs": [
    {
     "data": {
      "text/plain": [
       "5"
      ]
     },
     "execution_count": 38,
     "metadata": {},
     "output_type": "execute_result"
    }
   ],
   "source": [
    "len(s4)"
   ]
  },
  {
   "cell_type": "code",
   "execution_count": 40,
   "id": "d689f396-5687-41c7-a91c-1d9fe7d1b08a",
   "metadata": {},
   "outputs": [
    {
     "ename": "TypeError",
     "evalue": "'set' object is not subscriptable",
     "output_type": "error",
     "traceback": [
      "\u001b[1;31m---------------------------------------------------------------------------\u001b[0m",
      "\u001b[1;31mTypeError\u001b[0m                                 Traceback (most recent call last)",
      "Cell \u001b[1;32mIn[40], line 1\u001b[0m\n\u001b[1;32m----> 1\u001b[0m s4[:]\n",
      "\u001b[1;31mTypeError\u001b[0m: 'set' object is not subscriptable"
     ]
    }
   ],
   "source": [
    "s4[:]"
   ]
  },
  {
   "cell_type": "code",
   "execution_count": 42,
   "id": "7e21e6ab-f94f-44d8-bd2a-30d922d802bf",
   "metadata": {},
   "outputs": [
    {
     "data": {
      "text/plain": [
       "{'m', 'n ', 'o'}"
      ]
     },
     "execution_count": 42,
     "metadata": {},
     "output_type": "execute_result"
    }
   ],
   "source": [
    "s3"
   ]
  },
  {
   "cell_type": "code",
   "execution_count": 44,
   "id": "12b40f93-53e5-4439-9e86-44df5de4958f",
   "metadata": {},
   "outputs": [],
   "source": [
    "s3.add(\"R\")"
   ]
  },
  {
   "cell_type": "code",
   "execution_count": 46,
   "id": "1d8d2d1a-36d2-4839-b907-01eb9a0d21cb",
   "metadata": {},
   "outputs": [
    {
     "data": {
      "text/plain": [
       "{'R', 'm', 'n ', 'o'}"
      ]
     },
     "execution_count": 46,
     "metadata": {},
     "output_type": "execute_result"
    }
   ],
   "source": [
    "s3"
   ]
  },
  {
   "cell_type": "code",
   "execution_count": 48,
   "id": "53a5a280-3d7f-41ca-bcc0-38877b254d4b",
   "metadata": {},
   "outputs": [
    {
     "data": {
      "text/plain": [
       "'m'"
      ]
     },
     "execution_count": 48,
     "metadata": {},
     "output_type": "execute_result"
    }
   ],
   "source": [
    "s3.pop()"
   ]
  },
  {
   "cell_type": "code",
   "execution_count": 50,
   "id": "6a8ef5c7-aca8-44ef-9f02-09ea37456474",
   "metadata": {},
   "outputs": [
    {
     "data": {
      "text/plain": [
       "{'R', 'n ', 'o'}"
      ]
     },
     "execution_count": 50,
     "metadata": {},
     "output_type": "execute_result"
    }
   ],
   "source": [
    "s3"
   ]
  },
  {
   "cell_type": "code",
   "execution_count": 52,
   "id": "588afbba-a92e-4d0c-b9f7-117bafac5641",
   "metadata": {},
   "outputs": [],
   "source": [
    "s3.remove(\"R\")"
   ]
  },
  {
   "cell_type": "code",
   "execution_count": 54,
   "id": "2a4b6917-0b74-4c4a-94bd-4b5936367cea",
   "metadata": {},
   "outputs": [
    {
     "data": {
      "text/plain": [
       "{'n ', 'o'}"
      ]
     },
     "execution_count": 54,
     "metadata": {},
     "output_type": "execute_result"
    }
   ],
   "source": [
    "s3"
   ]
  },
  {
   "cell_type": "code",
   "execution_count": 56,
   "id": "c67ead99-7470-4cf7-995d-166ade2f14a2",
   "metadata": {},
   "outputs": [],
   "source": [
    "s3.discard(3344)"
   ]
  },
  {
   "cell_type": "code",
   "execution_count": 58,
   "id": "1876a02a-b879-46c5-a892-281227ccbaec",
   "metadata": {},
   "outputs": [
    {
     "data": {
      "text/plain": [
       "{'n ', 'o'}"
      ]
     },
     "execution_count": 58,
     "metadata": {},
     "output_type": "execute_result"
    }
   ],
   "source": [
    "s3"
   ]
  },
  {
   "cell_type": "code",
   "execution_count": 60,
   "id": "e255d519-d17b-4cef-aa4d-9b311eb0d792",
   "metadata": {},
   "outputs": [
    {
     "ename": "KeyError",
     "evalue": "3344",
     "output_type": "error",
     "traceback": [
      "\u001b[1;31m---------------------------------------------------------------------------\u001b[0m",
      "\u001b[1;31mKeyError\u001b[0m                                  Traceback (most recent call last)",
      "Cell \u001b[1;32mIn[60], line 1\u001b[0m\n\u001b[1;32m----> 1\u001b[0m s3\u001b[38;5;241m.\u001b[39mremove(\u001b[38;5;241m3344\u001b[39m)\n",
      "\u001b[1;31mKeyError\u001b[0m: 3344"
     ]
    }
   ],
   "source": [
    "s3.remove(3344)"
   ]
  },
  {
   "cell_type": "code",
   "execution_count": null,
   "id": "a5cf8234-a261-427b-acce-4d34e4950486",
   "metadata": {},
   "outputs": [],
   "source": []
  }
 ],
 "metadata": {
  "kernelspec": {
   "display_name": "Python [conda env:base] *",
   "language": "python",
   "name": "conda-base-py"
  },
  "language_info": {
   "codemirror_mode": {
    "name": "ipython",
    "version": 3
   },
   "file_extension": ".py",
   "mimetype": "text/x-python",
   "name": "python",
   "nbconvert_exporter": "python",
   "pygments_lexer": "ipython3",
   "version": "3.12.7"
  }
 },
 "nbformat": 4,
 "nbformat_minor": 5
}
