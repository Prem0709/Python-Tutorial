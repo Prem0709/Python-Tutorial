{
 "cells": [
  {
   "cell_type": "markdown",
   "id": "22696b29-00d0-4072-83db-cc97b8869f98",
   "metadata": {},
   "source": [
    "# 01 - Feb 2025\n",
    "# Set & Dictionary"
   ]
  },
  {
   "cell_type": "markdown",
   "id": "550f5a00-a30d-4afb-a301-4e23465b99e5",
   "metadata": {},
   "source": [
    "1) Unordered & Unindexed collection of items. \n",
    "2) Set elements are unique. Duplicate elements are not allowed. \n",
    "3) Set elements are immutable (cannot be changed). \n",
    "4) Set itself is mutable. We can add or remove items from it. "
   ]
  },
  {
   "cell_type": "markdown",
   "id": "3e681e57-925e-47c7-bc26-b31881fbafe3",
   "metadata": {},
   "source": [
    "# Creating a Set "
   ]
  },
  {
   "cell_type": "code",
   "execution_count": 7,
   "id": "c7b3ab6b-9717-40e5-9a4b-eb0553428dee",
   "metadata": {},
   "outputs": [
    {
     "name": "stdout",
     "output_type": "stream",
     "text": [
      "{1, 2, 3, 4, 5}\n"
     ]
    },
    {
     "data": {
      "text/plain": [
       "set"
      ]
     },
     "execution_count": 7,
     "metadata": {},
     "output_type": "execute_result"
    }
   ],
   "source": [
    "s = {1,2,3,4,5} # Creating a set with curly braces\n",
    "print(s)\n",
    "type(s)"
   ]
  },
  {
   "cell_type": "code",
   "execution_count": 9,
   "id": "976aabf0-d8d9-480e-9914-a5db243407e2",
   "metadata": {},
   "outputs": [
    {
     "name": "stdout",
     "output_type": "stream",
     "text": [
      "set()\n"
     ]
    }
   ],
   "source": [
    "empty_s = set ()\n",
    "print(empty_s)"
   ]
  },
  {
   "cell_type": "code",
   "execution_count": 13,
   "id": "26ce0beb-ec4a-4838-bef7-a8a48b6caa21",
   "metadata": {},
   "outputs": [
    {
     "name": "stdout",
     "output_type": "stream",
     "text": [
      "5\n"
     ]
    },
    {
     "data": {
      "text/plain": [
       "0"
      ]
     },
     "execution_count": 13,
     "metadata": {},
     "output_type": "execute_result"
    }
   ],
   "source": [
    "print(len(s))\n",
    "len(empty_s)"
   ]
  },
  {
   "cell_type": "code",
   "execution_count": 15,
   "id": "f98bb7ee-e369-4ca1-9a68-ab138ca5a978",
   "metadata": {},
   "outputs": [
    {
     "data": {
      "text/plain": [
       "{11, 22, 33, 44, 55}"
      ]
     },
     "execution_count": 15,
     "metadata": {},
     "output_type": "execute_result"
    }
   ],
   "source": [
    "s2 = {11,22,22,33,44,55,55} # duplicate elements are note allowed in set\n",
    "s2"
   ]
  },
  {
   "cell_type": "code",
   "execution_count": 17,
   "id": "14055567-bb0a-43af-821b-67917d0f2859",
   "metadata": {},
   "outputs": [
    {
     "data": {
      "text/plain": [
       "{(12, 12, 43), 1, 2, 2.2, 43.5, 'pawar', 'prem'}"
      ]
     },
     "execution_count": 17,
     "metadata": {},
     "output_type": "execute_result"
    }
   ],
   "source": [
    "s3 = {1,2,\"prem\", \"pawar\", 2.2, 43.5,(12,12,43)}\n",
    "s3 # Mixed data type "
   ]
  },
  {
   "cell_type": "code",
   "execution_count": 19,
   "id": "8fc1bbf5-eeff-439b-8292-8eef18474826",
   "metadata": {},
   "outputs": [],
   "source": [
    "# set is sorted"
   ]
  },
  {
   "cell_type": "code",
   "execution_count": 21,
   "id": "13c89d89-d77a-4f34-bc7d-4f95a0e2861f",
   "metadata": {},
   "outputs": [],
   "source": [
    "s4 = s3.copy() "
   ]
  },
  {
   "cell_type": "code",
   "execution_count": 23,
   "id": "62895a23-7704-4103-807b-d220107b7068",
   "metadata": {},
   "outputs": [
    {
     "data": {
      "text/plain": [
       "{(12, 12, 43), 1, 2, 2.2, 43.5, 'pawar', 'prem'}"
      ]
     },
     "execution_count": 23,
     "metadata": {},
     "output_type": "execute_result"
    }
   ],
   "source": [
    "s4"
   ]
  },
  {
   "cell_type": "code",
   "execution_count": 27,
   "id": "d48a384e-71de-434b-bf0c-3b8ca22fc72a",
   "metadata": {},
   "outputs": [
    {
     "ename": "TypeError",
     "evalue": "unhashable type: 'list'",
     "output_type": "error",
     "traceback": [
      "\u001b[1;31m---------------------------------------------------------------------------\u001b[0m",
      "\u001b[1;31mTypeError\u001b[0m                                 Traceback (most recent call last)",
      "Cell \u001b[1;32mIn[27], line 1\u001b[0m\n\u001b[1;32m----> 1\u001b[0m s5 \u001b[38;5;241m=\u001b[39m {(\u001b[38;5;241m12\u001b[39m, \u001b[38;5;241m12\u001b[39m, \u001b[38;5;241m43\u001b[39m), \u001b[38;5;241m1\u001b[39m, \u001b[38;5;241m2\u001b[39m, \u001b[38;5;241m2.2\u001b[39m, \u001b[38;5;241m43.5\u001b[39m, \u001b[38;5;124m'\u001b[39m\u001b[38;5;124mpawar\u001b[39m\u001b[38;5;124m'\u001b[39m, \u001b[38;5;124m'\u001b[39m\u001b[38;5;124mprem\u001b[39m\u001b[38;5;124m'\u001b[39m,[\u001b[38;5;241m1\u001b[39m,\u001b[38;5;241m1\u001b[39m,\u001b[38;5;241m1\u001b[39m,\u001b[38;5;241m2\u001b[39m]}\n",
      "\u001b[1;31mTypeError\u001b[0m: unhashable type: 'list'"
     ]
    }
   ],
   "source": [
    "s5 = {(12, 12, 43), 1, 2, 2.2, 43.5, 'pawar', 'prem',[1,1,1,2]}\n",
    "# Set doesn't allow mutable items like list \"[```]\""
   ]
  },
  {
   "cell_type": "code",
   "execution_count": 29,
   "id": "7f450acf-01e5-40d6-b2f2-0bec543878f1",
   "metadata": {},
   "outputs": [
    {
     "name": "stdout",
     "output_type": "stream",
     "text": [
      "<class 'set'>\n"
     ]
    }
   ],
   "source": [
    "print(type (s4))"
   ]
  },
  {
   "cell_type": "markdown",
   "id": "a104f243-2094-4108-8747-3bf0483fb6b8",
   "metadata": {},
   "source": [
    "# Loop through a Set "
   ]
  },
  {
   "cell_type": "code",
   "execution_count": 33,
   "id": "c5990738-7adc-46df-a467-38c16cd45919",
   "metadata": {},
   "outputs": [
    {
     "name": "stdout",
     "output_type": "stream",
     "text": [
      "index = 0, & vale =1\tindex = 1, & vale =2\tindex = 2, & vale =2.2\tindex = 3, & vale =prem\tindex = 4, & vale =(12, 12, 43)\tindex = 5, & vale =pawar\tindex = 6, & vale =43.5\t"
     ]
    }
   ],
   "source": [
    "for i,j in enumerate (s4):\n",
    "    print(f\"index = {i}, & vale ={j}\", end=\"\\t\")"
   ]
  },
  {
   "cell_type": "code",
   "execution_count": 35,
   "id": "7b7c0979-f211-42ea-91ed-d2ae7835b92b",
   "metadata": {},
   "outputs": [
    {
     "name": "stdout",
     "output_type": "stream",
     "text": [
      "index = 0, & vale =1\n",
      "index = 1, & vale =2\n",
      "index = 2, & vale =2.2\n",
      "index = 3, & vale =prem\n",
      "index = 4, & vale =(12, 12, 43)\n",
      "index = 5, & vale =pawar\n",
      "index = 6, & vale =43.5\n"
     ]
    }
   ],
   "source": [
    "for i,j in enumerate (s4):\n",
    "    print(f\"index = {i}, & vale ={j}\")"
   ]
  },
  {
   "cell_type": "markdown",
   "id": "de2a5b2c-c884-4e19-a1cf-155f0addb2ad",
   "metadata": {},
   "source": [
    "# Set Membership"
   ]
  },
  {
   "cell_type": "code",
   "execution_count": 40,
   "id": "f527ebfe-3bff-42a3-89ea-823357f09cff",
   "metadata": {},
   "outputs": [
    {
     "data": {
      "text/plain": [
       "{(12, 12, 43), 1, 2, 2.2, 43.5, 'pawar', 'prem'}"
      ]
     },
     "execution_count": 40,
     "metadata": {},
     "output_type": "execute_result"
    }
   ],
   "source": [
    "s4"
   ]
  },
  {
   "cell_type": "code",
   "execution_count": 42,
   "id": "b3fd1440-c735-4d3c-b2b3-9c55ef7b2303",
   "metadata": {},
   "outputs": [
    {
     "data": {
      "text/plain": [
       "False"
      ]
     },
     "execution_count": 42,
     "metadata": {},
     "output_type": "execute_result"
    }
   ],
   "source": [
    "12 in s4 # check 12 are present"
   ]
  },
  {
   "cell_type": "code",
   "execution_count": 44,
   "id": "a65c85a3-032c-4188-af7e-95154554a9db",
   "metadata": {},
   "outputs": [
    {
     "data": {
      "text/plain": [
       "True"
      ]
     },
     "execution_count": 44,
     "metadata": {},
     "output_type": "execute_result"
    }
   ],
   "source": [
    "1 in s4"
   ]
  },
  {
   "cell_type": "code",
   "execution_count": 48,
   "id": "9cd78b98-6c70-4efa-9230-7b56dbb5275d",
   "metadata": {},
   "outputs": [
    {
     "name": "stdout",
     "output_type": "stream",
     "text": [
      "Three is present in the set\n"
     ]
    }
   ],
   "source": [
    "if (12,12,43) in s4: # Check if '(12,12,43)' exist in the set \n",
    "    print('Three is present in the set')\n",
    "else:\n",
    "    print('Three is not present in the set') "
   ]
  },
  {
   "cell_type": "markdown",
   "id": "d657db99-0ba8-47d1-92cc-958a285e89fa",
   "metadata": {},
   "source": [
    "# Add & Remove Items "
   ]
  },
  {
   "cell_type": "code",
   "execution_count": 51,
   "id": "f2e000c6-558e-4556-82fe-a1697d99d398",
   "metadata": {},
   "outputs": [
    {
     "data": {
      "text/plain": [
       "{(12, 12, 43), 1, 2, 2.2, 43.5, 'pawar', 'prem'}"
      ]
     },
     "execution_count": 51,
     "metadata": {},
     "output_type": "execute_result"
    }
   ],
   "source": [
    "s4"
   ]
  },
  {
   "cell_type": "code",
   "execution_count": 53,
   "id": "0d2c0930-36a5-4c6f-aa70-cd1ee2dc9f67",
   "metadata": {},
   "outputs": [],
   "source": [
    "s4.add(3)"
   ]
  },
  {
   "cell_type": "code",
   "execution_count": 55,
   "id": "f20fd93d-fa02-4c81-8c76-2c0a977a2618",
   "metadata": {},
   "outputs": [
    {
     "data": {
      "text/plain": [
       "{(12, 12, 43), 1, 2, 2.2, 3, 43.5, 'pawar', 'prem'}"
      ]
     },
     "execution_count": 55,
     "metadata": {},
     "output_type": "execute_result"
    }
   ],
   "source": [
    "s4"
   ]
  },
  {
   "cell_type": "code",
   "execution_count": 57,
   "id": "cb9208a5-98ea-4ffb-8e27-2295aedae9e8",
   "metadata": {},
   "outputs": [],
   "source": [
    "s4.update([12,23,34])"
   ]
  },
  {
   "cell_type": "code",
   "execution_count": 67,
   "id": "c01f3aad-722a-4adb-9956-0f9efd98e886",
   "metadata": {},
   "outputs": [
    {
     "name": "stdout",
     "output_type": "stream",
     "text": [
      "{1, 2, 2.2, 3, 12, 23, 'pawar', 34, 'prem', 43.5, (12, 12, 43)}\n"
     ]
    }
   ],
   "source": [
    "print(s4)"
   ]
  },
  {
   "cell_type": "code",
   "execution_count": 69,
   "id": "485329de-c0bc-4d10-a087-2ee1b24d530f",
   "metadata": {},
   "outputs": [],
   "source": [
    "s4.remove(1)"
   ]
  },
  {
   "cell_type": "code",
   "execution_count": 71,
   "id": "e81ade53-1d92-48a4-9aff-8b70d676f206",
   "metadata": {},
   "outputs": [
    {
     "data": {
      "text/plain": [
       "{(12, 12, 43), 12, 2, 2.2, 23, 3, 34, 43.5, 'pawar', 'prem'}"
      ]
     },
     "execution_count": 71,
     "metadata": {},
     "output_type": "execute_result"
    }
   ],
   "source": [
    "s4"
   ]
  },
  {
   "cell_type": "code",
   "execution_count": 73,
   "id": "98f9bfb4-0040-456f-ae7c-dba0c372885b",
   "metadata": {},
   "outputs": [],
   "source": [
    "s4.discard(2.2)"
   ]
  },
  {
   "cell_type": "code",
   "execution_count": 75,
   "id": "693804cd-66df-4b9c-bb5d-e8e57bc92f16",
   "metadata": {},
   "outputs": [
    {
     "data": {
      "text/plain": [
       "{(12, 12, 43), 12, 2, 23, 3, 34, 43.5, 'pawar', 'prem'}"
      ]
     },
     "execution_count": 75,
     "metadata": {},
     "output_type": "execute_result"
    }
   ],
   "source": [
    "s4"
   ]
  },
  {
   "cell_type": "code",
   "execution_count": 77,
   "id": "05742f5e-c2ee-43b2-ae26-554cc4d82754",
   "metadata": {},
   "outputs": [],
   "source": [
    "s4.discard(3443433343)"
   ]
  },
  {
   "cell_type": "code",
   "execution_count": 79,
   "id": "ff42af36-6cf8-42fd-aa7a-788251653788",
   "metadata": {},
   "outputs": [
    {
     "data": {
      "text/plain": [
       "{(12, 12, 43), 12, 2, 23, 3, 34, 43.5, 'pawar', 'prem'}"
      ]
     },
     "execution_count": 79,
     "metadata": {},
     "output_type": "execute_result"
    }
   ],
   "source": [
    "s4"
   ]
  },
  {
   "cell_type": "code",
   "execution_count": 83,
   "id": "c27a598e-f066-4bef-8803-a23de9f112cd",
   "metadata": {},
   "outputs": [
    {
     "data": {
      "text/plain": [
       "{(12, 12, 43), 12, 2, 23, 3, 34, 43.5, 'pawar', 'prem'}"
      ]
     },
     "execution_count": 83,
     "metadata": {},
     "output_type": "execute_result"
    }
   ],
   "source": [
    "s5 = s4\n",
    "s5"
   ]
  },
  {
   "cell_type": "code",
   "execution_count": 87,
   "id": "d7f01bdc-6f98-480a-93f0-68d7ee039bd6",
   "metadata": {},
   "outputs": [],
   "source": [
    "del s5"
   ]
  },
  {
   "cell_type": "code",
   "execution_count": 89,
   "id": "11e5fdeb-9901-4de7-83df-05af626898d8",
   "metadata": {},
   "outputs": [
    {
     "ename": "NameError",
     "evalue": "name 's5' is not defined",
     "output_type": "error",
     "traceback": [
      "\u001b[1;31m---------------------------------------------------------------------------\u001b[0m",
      "\u001b[1;31mNameError\u001b[0m                                 Traceback (most recent call last)",
      "Cell \u001b[1;32mIn[89], line 1\u001b[0m\n\u001b[1;32m----> 1\u001b[0m s5\n",
      "\u001b[1;31mNameError\u001b[0m: name 's5' is not defined"
     ]
    }
   ],
   "source": [
    "s5"
   ]
  },
  {
   "cell_type": "markdown",
   "id": "c4c4d012-92ba-4e88-ac86-58e39a27a66a",
   "metadata": {},
   "source": [
    "# Set Operation "
   ]
  },
  {
   "cell_type": "code",
   "execution_count": 92,
   "id": "543811d8-e61d-40a6-ba94-5d6ac308de86",
   "metadata": {},
   "outputs": [],
   "source": [
    "# Union"
   ]
  },
  {
   "cell_type": "code",
   "execution_count": 94,
   "id": "2c257787-aae3-4d39-aeac-7a62fec65c5c",
   "metadata": {},
   "outputs": [],
   "source": [
    "a = {1,2,3,4,5}\n",
    "b = {4,5,6,7,8}\n",
    "c= {5,8,9,10}"
   ]
  },
  {
   "cell_type": "code",
   "execution_count": 96,
   "id": "f675e623-cd3c-4888-8f85-24a2648c723d",
   "metadata": {},
   "outputs": [
    {
     "data": {
      "text/plain": [
       "{1, 2, 3, 4, 5, 6, 7, 8}"
      ]
     },
     "execution_count": 96,
     "metadata": {},
     "output_type": "execute_result"
    }
   ],
   "source": [
    "a | b"
   ]
  },
  {
   "cell_type": "code",
   "execution_count": 102,
   "id": "7ace348f-e0ec-4a75-9f20-d8667784395c",
   "metadata": {},
   "outputs": [
    {
     "data": {
      "text/plain": [
       "{4, 5}"
      ]
     },
     "execution_count": 102,
     "metadata": {},
     "output_type": "execute_result"
    }
   ],
   "source": [
    "a & b # Set Intersection"
   ]
  },
  {
   "cell_type": "markdown",
   "id": "b5c884cf-ca6b-4746-8cfa-79bab2302cf9",
   "metadata": {},
   "source": [
    "1. Elements 4 and 5 are present in both sets a and b.\n",
    "2. So, a & b returns {4, 5}."
   ]
  },
  {
   "cell_type": "code",
   "execution_count": 108,
   "id": "0d405a50-b2e7-42c5-b442-d6efd665eb2c",
   "metadata": {},
   "outputs": [
    {
     "data": {
      "text/plain": [
       "{4, 5, 6, 7, 8}"
      ]
     },
     "execution_count": 108,
     "metadata": {},
     "output_type": "execute_result"
    }
   ],
   "source": [
    "a and b # Boolean Logic"
   ]
  },
  {
   "cell_type": "markdown",
   "id": "01d34e92-362b-4060-aa8e-84342ab3187b",
   "metadata": {},
   "source": [
    "1. Since a is not empty, Python returns b ({4, 5, 6, 7, 8}).\n",
    "2. If a were an empty set {}, Python would return a instead."
   ]
  },
  {
   "cell_type": "code",
   "execution_count": 111,
   "id": "b271b239-4054-4a94-ac8c-caaf552d25a9",
   "metadata": {},
   "outputs": [
    {
     "data": {
      "text/plain": [
       "{1, 2, 3, 4, 5}"
      ]
     },
     "execution_count": 111,
     "metadata": {},
     "output_type": "execute_result"
    }
   ],
   "source": [
    "a"
   ]
  },
  {
   "cell_type": "code",
   "execution_count": 113,
   "id": "6a255094-fa73-4645-811b-acfa04ae34bb",
   "metadata": {},
   "outputs": [
    {
     "data": {
      "text/plain": [
       "{4, 5, 6, 7, 8}"
      ]
     },
     "execution_count": 113,
     "metadata": {},
     "output_type": "execute_result"
    }
   ],
   "source": [
    "b"
   ]
  },
  {
   "cell_type": "code",
   "execution_count": 115,
   "id": "0c579369-c7f3-40c5-996e-4a599dbd8c2a",
   "metadata": {},
   "outputs": [
    {
     "data": {
      "text/plain": [
       "{5, 8, 9, 10}"
      ]
     },
     "execution_count": 115,
     "metadata": {},
     "output_type": "execute_result"
    }
   ],
   "source": [
    "c"
   ]
  },
  {
   "cell_type": "code",
   "execution_count": 119,
   "id": "e590130e-15f5-4da6-b263-3b71e686ec71",
   "metadata": {},
   "outputs": [
    {
     "data": {
      "text/plain": [
       "{1, 2, 3, 4, 5, 6, 7, 8}"
      ]
     },
     "execution_count": 119,
     "metadata": {},
     "output_type": "execute_result"
    }
   ],
   "source": [
    "a.union(b)"
   ]
  },
  {
   "cell_type": "code",
   "execution_count": 121,
   "id": "a8a9bdfb-bfc3-4fcb-b070-abd5afd54e74",
   "metadata": {},
   "outputs": [
    {
     "data": {
      "text/plain": [
       "{1, 2, 3, 4, 5, 6, 7, 8, 9, 10}"
      ]
     },
     "execution_count": 121,
     "metadata": {},
     "output_type": "execute_result"
    }
   ],
   "source": [
    "a.union(b,c)"
   ]
  },
  {
   "cell_type": "code",
   "execution_count": 133,
   "id": "0e215607-92b1-4456-86bd-00ce8c6e1e47",
   "metadata": {},
   "outputs": [],
   "source": [
    "A = {1,2,3,4,5} \n",
    "B = {4,5,6,7,8} "
   ]
  },
  {
   "cell_type": "code",
   "execution_count": 135,
   "id": "537ce112-b83b-40cc-8da9-d57652593630",
   "metadata": {},
   "outputs": [
    {
     "data": {
      "text/plain": [
       "{4, 5}"
      ]
     },
     "execution_count": 135,
     "metadata": {},
     "output_type": "execute_result"
    }
   ],
   "source": [
    "A.intersection_update(B) \n",
    "A"
   ]
  },
  {
   "cell_type": "markdown",
   "id": "1c63eab8-d74a-49b5-ac69-4c5a10a172d5",
   "metadata": {},
   "source": [
    "# Difference"
   ]
  },
  {
   "cell_type": "code",
   "execution_count": 140,
   "id": "301f2570-8fe5-47cb-b1b6-bab9522e2b24",
   "metadata": {},
   "outputs": [],
   "source": [
    "A = {1,2,3,4,5} \n",
    "B = {4,5,6,7,8} "
   ]
  },
  {
   "cell_type": "code",
   "execution_count": 142,
   "id": "09a3c4bd-e620-4319-9ab2-5092a6e8dc58",
   "metadata": {},
   "outputs": [
    {
     "data": {
      "text/plain": [
       "{1, 2, 3}"
      ]
     },
     "execution_count": 142,
     "metadata": {},
     "output_type": "execute_result"
    }
   ],
   "source": [
    "A - B"
   ]
  },
  {
   "cell_type": "code",
   "execution_count": 144,
   "id": "8d9af00a-0826-4a7f-9d44-f1da9e3be327",
   "metadata": {},
   "outputs": [
    {
     "data": {
      "text/plain": [
       "{1, 2, 3}"
      ]
     },
     "execution_count": 144,
     "metadata": {},
     "output_type": "execute_result"
    }
   ],
   "source": [
    "A.difference(B) # Difference of sets \n"
   ]
  },
  {
   "cell_type": "code",
   "execution_count": 146,
   "id": "bec4536a-86bf-4063-8ff1-ea9201ed2bf0",
   "metadata": {},
   "outputs": [
    {
     "data": {
      "text/plain": [
       "{6, 7, 8}"
      ]
     },
     "execution_count": 146,
     "metadata": {},
     "output_type": "execute_result"
    }
   ],
   "source": [
    "B - A"
   ]
  },
  {
   "cell_type": "code",
   "execution_count": 148,
   "id": "cb62e4e3-dbca-4a5a-b346-942ced9d3438",
   "metadata": {},
   "outputs": [
    {
     "data": {
      "text/plain": [
       "{6, 7, 8}"
      ]
     },
     "execution_count": 148,
     "metadata": {},
     "output_type": "execute_result"
    }
   ],
   "source": [
    "B.difference(A) \n"
   ]
  },
  {
   "cell_type": "markdown",
   "id": "a18f749b-3d0b-4cc9-90d3-dbc57bc98b86",
   "metadata": {},
   "source": [
    "# Symmetric Difference \n"
   ]
  },
  {
   "cell_type": "code",
   "execution_count": 151,
   "id": "aedfacf2-bb25-4261-909b-00fd30b96ae6",
   "metadata": {},
   "outputs": [],
   "source": [
    "A = {1,2,3,4,5} \n",
    "B = {4,5,6,7,8} "
   ]
  },
  {
   "cell_type": "code",
   "execution_count": 153,
   "id": "a316ff60-06a4-4a9c-beb9-564e780a4971",
   "metadata": {},
   "outputs": [
    {
     "data": {
      "text/plain": [
       "{1, 2, 3, 6, 7, 8}"
      ]
     },
     "execution_count": 153,
     "metadata": {},
     "output_type": "execute_result"
    }
   ],
   "source": [
    "A ^ B"
   ]
  },
  {
   "cell_type": "code",
   "execution_count": 155,
   "id": "6f719ade-657d-4d68-879e-1f5146bbc7f1",
   "metadata": {},
   "outputs": [
    {
     "data": {
      "text/plain": [
       "{1, 2, 3, 6, 7, 8}"
      ]
     },
     "execution_count": 155,
     "metadata": {},
     "output_type": "execute_result"
    }
   ],
   "source": [
    "A.symmetric_difference(B)"
   ]
  },
  {
   "cell_type": "code",
   "execution_count": 157,
   "id": "5523540b-3cf5-416f-befa-cc6b8133224a",
   "metadata": {},
   "outputs": [
    {
     "data": {
      "text/plain": [
       "{1, 2, 3, 6, 7, 8}"
      ]
     },
     "execution_count": 157,
     "metadata": {},
     "output_type": "execute_result"
    }
   ],
   "source": [
    "A.symmetric_difference_update(B) \n",
    "A"
   ]
  },
  {
   "cell_type": "markdown",
   "id": "e93dd6e5-3df1-4ab1-ab93-f3c2afcf37d2",
   "metadata": {},
   "source": [
    "# Subset , Superset & Disjoint \n"
   ]
  },
  {
   "cell_type": "code",
   "execution_count": 160,
   "id": "51fea659-905a-461a-875b-c55d4d9386f7",
   "metadata": {},
   "outputs": [],
   "source": [
    "A  = {1,2,3,4,5,6,7,8,9} \n",
    "B = {3,4,5,6,7,8} \n",
    "C = {10,20,30,40} "
   ]
  },
  {
   "cell_type": "code",
   "execution_count": 162,
   "id": "43a17aa3-7977-497d-bad0-ab91b8b4b6af",
   "metadata": {},
   "outputs": [
    {
     "data": {
      "text/plain": [
       "True"
      ]
     },
     "execution_count": 162,
     "metadata": {},
     "output_type": "execute_result"
    }
   ],
   "source": [
    "B.issubset(A) # Set B is said to be the subset of set A if all elements of B are \n"
   ]
  },
  {
   "cell_type": "code",
   "execution_count": 164,
   "id": "56f480db-9dd5-4016-95bd-cf3235137a04",
   "metadata": {},
   "outputs": [
    {
     "data": {
      "text/plain": [
       "True"
      ]
     },
     "execution_count": 164,
     "metadata": {},
     "output_type": "execute_result"
    }
   ],
   "source": [
    "A.issuperset(B) # Set A is said to be the superset of set B if all elements of B "
   ]
  },
  {
   "cell_type": "code",
   "execution_count": 166,
   "id": "e9e1d0f0-7e11-4ee9-b3b6-38ef03d0d98d",
   "metadata": {},
   "outputs": [
    {
     "data": {
      "text/plain": [
       "True"
      ]
     },
     "execution_count": 166,
     "metadata": {},
     "output_type": "execute_result"
    }
   ],
   "source": [
    "C.isdisjoint(A) # Two sets are said to be disjoint sets if they have no common e "
   ]
  },
  {
   "cell_type": "code",
   "execution_count": 168,
   "id": "f3e39a9b-a337-4b0b-9cd0-24d68edbf42b",
   "metadata": {},
   "outputs": [
    {
     "data": {
      "text/plain": [
       "False"
      ]
     },
     "execution_count": 168,
     "metadata": {},
     "output_type": "execute_result"
    }
   ],
   "source": [
    "B.isdisjoint(A) # Two sets are said to be disjoint sets if they have no common e "
   ]
  },
  {
   "cell_type": "markdown",
   "id": "21c0f871-a4e7-4672-bed0-de70e48a65af",
   "metadata": {},
   "source": [
    "# Other Builtin functions "
   ]
  },
  {
   "cell_type": "code",
   "execution_count": 171,
   "id": "23095b87-43b8-4972-94ee-a5bc7e88ae23",
   "metadata": {},
   "outputs": [
    {
     "data": {
      "text/plain": [
       "{1, 2, 3, 4, 5, 6, 7, 8, 9}"
      ]
     },
     "execution_count": 171,
     "metadata": {},
     "output_type": "execute_result"
    }
   ],
   "source": [
    "A"
   ]
  },
  {
   "cell_type": "code",
   "execution_count": 173,
   "id": "a4422fcd-7771-47bb-87b3-86d5bc4c7b20",
   "metadata": {},
   "outputs": [
    {
     "data": {
      "text/plain": [
       "45"
      ]
     },
     "execution_count": 173,
     "metadata": {},
     "output_type": "execute_result"
    }
   ],
   "source": [
    "sum(A)"
   ]
  },
  {
   "cell_type": "code",
   "execution_count": 175,
   "id": "20fcb43b-9ffd-4e31-a21c-49f8538b7b4e",
   "metadata": {},
   "outputs": [
    {
     "data": {
      "text/plain": [
       "9"
      ]
     },
     "execution_count": 175,
     "metadata": {},
     "output_type": "execute_result"
    }
   ],
   "source": [
    "max(A)"
   ]
  },
  {
   "cell_type": "code",
   "execution_count": 177,
   "id": "6cb402a4-6dcc-4782-9b23-354f73876147",
   "metadata": {},
   "outputs": [
    {
     "data": {
      "text/plain": [
       "1"
      ]
     },
     "execution_count": 177,
     "metadata": {},
     "output_type": "execute_result"
    }
   ],
   "source": [
    "min(A)"
   ]
  },
  {
   "cell_type": "code",
   "execution_count": 179,
   "id": "3bb88bd9-3658-41ff-bf1e-a88968d98ee1",
   "metadata": {},
   "outputs": [
    {
     "data": {
      "text/plain": [
       "9"
      ]
     },
     "execution_count": 179,
     "metadata": {},
     "output_type": "execute_result"
    }
   ],
   "source": [
    "len(A)"
   ]
  },
  {
   "cell_type": "code",
   "execution_count": 181,
   "id": "67e9704b-6576-42b8-8da8-3bbb8a197829",
   "metadata": {},
   "outputs": [
    {
     "data": {
      "text/plain": [
       "[(0, 1), (1, 2), (2, 3), (3, 4), (4, 5), (5, 6), (6, 7), (7, 8), (8, 9)]"
      ]
     },
     "execution_count": 181,
     "metadata": {},
     "output_type": "execute_result"
    }
   ],
   "source": [
    "list(enumerate(A))"
   ]
  },
  {
   "cell_type": "code",
   "execution_count": 183,
   "id": "cbcfdb29-b844-4d04-a06a-99ff8be37dda",
   "metadata": {},
   "outputs": [
    {
     "data": {
      "text/plain": [
       "[9, 8, 7, 6, 5, 4, 3, 2, 1]"
      ]
     },
     "execution_count": 183,
     "metadata": {},
     "output_type": "execute_result"
    }
   ],
   "source": [
    "d = sorted(A, reverse=True)\n",
    "d"
   ]
  },
  {
   "cell_type": "code",
   "execution_count": 185,
   "id": "8b9a7d17-eb20-4d57-a2fe-b906ed70e0cd",
   "metadata": {},
   "outputs": [
    {
     "data": {
      "text/plain": [
       "[1, 2, 3, 4, 5, 6, 7, 8, 9]"
      ]
     },
     "execution_count": 185,
     "metadata": {},
     "output_type": "execute_result"
    }
   ],
   "source": [
    "sorted(d)"
   ]
  },
  {
   "cell_type": "code",
   "execution_count": 187,
   "id": "6affa4ea-e312-4e86-ae2d-4cfc8f659316",
   "metadata": {},
   "outputs": [],
   "source": [
    "# ."
   ]
  },
  {
   "cell_type": "code",
   "execution_count": 189,
   "id": "53a3139b-2cee-4580-840d-f1446eacaa9f",
   "metadata": {},
   "outputs": [],
   "source": [
    "# ."
   ]
  },
  {
   "cell_type": "code",
   "execution_count": 191,
   "id": "240ba48e-3908-435b-bf5c-b9fb73e2d080",
   "metadata": {},
   "outputs": [],
   "source": [
    "# ."
   ]
  },
  {
   "cell_type": "markdown",
   "id": "626628a1-4242-4ca3-b566-ebd13dca9277",
   "metadata": {},
   "source": [
    "# Dictionary"
   ]
  },
  {
   "cell_type": "markdown",
   "id": "ce171294-16e4-4245-843e-7a3a222abbec",
   "metadata": {},
   "source": [
    "1. Dictionary is a mutable data type in Python.\n",
    "2. A python dictionary is a collection of key and value pairs separated by a colon (:) & enclosed in curly braces {}.\n",
    "3. Keys must be unique in a dictionary, duplicate values are allowed"
   ]
  },
  {
   "cell_type": "code",
   "execution_count": 196,
   "id": "c077d90f-de92-4f9f-a683-a9ee530cc578",
   "metadata": {},
   "outputs": [
    {
     "name": "stdout",
     "output_type": "stream",
     "text": [
      "{'Name': 'P', 'age': 23, 'City': 'Hy'}\n"
     ]
    }
   ],
   "source": [
    "# create a dictionary using curly braces {} or the dict() function.\n",
    "info = {\n",
    "    \"Name\": \"P\",\n",
    "    \"age\": 23,\n",
    "    \"City\": \"Hy\"\n",
    "}\n",
    "print(info)"
   ]
  },
  {
   "cell_type": "code",
   "execution_count": 198,
   "id": "9453defe-1032-48cd-8d1b-a107edf0ffd9",
   "metadata": {},
   "outputs": [
    {
     "name": "stdout",
     "output_type": "stream",
     "text": [
      "{'name': 'p', 'age': 23, 'city': 'Hy'}\n"
     ]
    }
   ],
   "source": [
    "person = dict(name=\"p\", age=23, city=\"Hy\")\n",
    "print(person)"
   ]
  },
  {
   "cell_type": "markdown",
   "id": "db86d8c2-2042-4d45-8b97-1aeb4e4a8167",
   "metadata": {},
   "source": [
    "1. Accessing Dictionary Elements\n",
    "2. usinng Square Bracket"
   ]
  },
  {
   "cell_type": "code",
   "execution_count": 203,
   "id": "06683b7e-7bd1-419e-b328-bcde01763e7a",
   "metadata": {},
   "outputs": [
    {
     "name": "stdout",
     "output_type": "stream",
     "text": [
      "P\n"
     ]
    }
   ],
   "source": [
    "print(info[\"Name\"])"
   ]
  },
  {
   "cell_type": "code",
   "execution_count": 205,
   "id": "055ba536-b7df-44fe-8efc-efb815810d6f",
   "metadata": {},
   "outputs": [],
   "source": [
    "# Using .get() Method"
   ]
  },
  {
   "cell_type": "code",
   "execution_count": 211,
   "id": "b1e9bdd9-737b-4cc4-9f18-f4e683ea25e4",
   "metadata": {},
   "outputs": [
    {
     "name": "stdout",
     "output_type": "stream",
     "text": [
      "Hy\n",
      "No Match\n"
     ]
    }
   ],
   "source": [
    "print(info.get(\"City\"))\n",
    "print(info.get(\"Country\", \"No Match\")) # Advantage: .get() avoids errors\n",
    "                                       # if the key does not exist.\n"
   ]
  },
  {
   "cell_type": "code",
   "execution_count": 215,
   "id": "4cc7733c-f7be-43e9-9197-c2a9fd09b1c4",
   "metadata": {},
   "outputs": [
    {
     "name": "stdout",
     "output_type": "stream",
     "text": [
      "Hy\n",
      "23\n"
     ]
    }
   ],
   "source": [
    "print(info.get(\"City\"))\n",
    "print(info.get(\"age\", \"No Match\"))"
   ]
  },
  {
   "cell_type": "markdown",
   "id": "18de6905-60ec-484a-98cd-bedfa8c5efb3",
   "metadata": {},
   "source": [
    "# Modifying a Dictionary"
   ]
  },
  {
   "cell_type": "code",
   "execution_count": 221,
   "id": "309c3e03-f46c-4699-8239-f5aa37b127ce",
   "metadata": {},
   "outputs": [
    {
     "name": "stdout",
     "output_type": "stream",
     "text": [
      "{'name': 'p', 'age': 23, 'city': 'Hy'}\n"
     ]
    }
   ],
   "source": [
    "print(person)"
   ]
  },
  {
   "cell_type": "code",
   "execution_count": 224,
   "id": "0aeca51a-261d-4c43-8c6c-57d88fb3dbee",
   "metadata": {},
   "outputs": [
    {
     "name": "stdout",
     "output_type": "stream",
     "text": [
      "{'name': 'p', 'age': 23, 'city': 'Hy', 'gender': 'Male'}\n"
     ]
    }
   ],
   "source": [
    "person[\"gender\"] = \"Male\"\n",
    "print(person)"
   ]
  },
  {
   "cell_type": "code",
   "execution_count": 226,
   "id": "74e5d334-eb2a-4616-a6d8-7f26a03b70f1",
   "metadata": {},
   "outputs": [],
   "source": [
    "# Updating an Existing Value"
   ]
  },
  {
   "cell_type": "code",
   "execution_count": 228,
   "id": "622924bb-3a8e-4cf3-8a55-59087aa07120",
   "metadata": {},
   "outputs": [
    {
     "name": "stdout",
     "output_type": "stream",
     "text": [
      "{'name': 'p', 'age': 31, 'city': 'Hy', 'gender': 'Male'}\n"
     ]
    }
   ],
   "source": [
    "person[\"age\"] = 31\n",
    "print(person)"
   ]
  },
  {
   "cell_type": "code",
   "execution_count": 230,
   "id": "8cebd31e-400b-47b3-8f9e-14402b23b1f6",
   "metadata": {},
   "outputs": [],
   "source": [
    "# Removing Elements from a Dictionary"
   ]
  },
  {
   "cell_type": "code",
   "execution_count": 232,
   "id": "537266d0-cbc3-49d4-b1a7-ea24d4fb5976",
   "metadata": {},
   "outputs": [
    {
     "name": "stdout",
     "output_type": "stream",
     "text": [
      "{'name': 'p', 'age': 31, 'gender': 'Male'}\n"
     ]
    }
   ],
   "source": [
    "del person[\"city\"]\n",
    "print(person)"
   ]
  },
  {
   "cell_type": "code",
   "execution_count": 234,
   "id": "0472eb93-6ea0-4e43-99d1-226dec40aff3",
   "metadata": {},
   "outputs": [],
   "source": [
    "# Using .pop() Method"
   ]
  },
  {
   "cell_type": "code",
   "execution_count": 236,
   "id": "4fa54c38-cea2-428f-b777-0c20483a0f5b",
   "metadata": {},
   "outputs": [
    {
     "name": "stdout",
     "output_type": "stream",
     "text": [
      "('gender', 'Male')\n",
      "{'name': 'p', 'age': 31}\n"
     ]
    }
   ],
   "source": [
    "last_item = person.popitem()\n",
    "print(last_item)  \n",
    "print(person)"
   ]
  },
  {
   "cell_type": "markdown",
   "id": "7a5b764c-5ab9-4672-abdf-6225f82b9d97",
   "metadata": {},
   "source": [
    "# Dictionary Operations"
   ]
  },
  {
   "cell_type": "markdown",
   "id": "ac106186-e814-49ec-9882-32311c408390",
   "metadata": {},
   "source": [
    "1. Checking if a Key Exists (in Operator)"
   ]
  },
  {
   "cell_type": "code",
   "execution_count": 240,
   "id": "429c870d-efcb-4a1b-8f53-708d1f44127d",
   "metadata": {},
   "outputs": [
    {
     "name": "stdout",
     "output_type": "stream",
     "text": [
      "Key 'name' exists!\n"
     ]
    }
   ],
   "source": [
    "if \"name\" in person:\n",
    "    print(\"Key 'name' exists!\")  "
   ]
  },
  {
   "cell_type": "markdown",
   "id": "1a8e7d3f-22a1-49cc-b5ba-b9be1998a4ed",
   "metadata": {},
   "source": [
    "2. Getting All Keys (.keys())"
   ]
  },
  {
   "cell_type": "code",
   "execution_count": 244,
   "id": "e6f84449-4b92-4ad7-9fbc-0c95e5db0588",
   "metadata": {},
   "outputs": [
    {
     "name": "stdout",
     "output_type": "stream",
     "text": [
      "dict_keys(['name', 'age'])\n"
     ]
    }
   ],
   "source": [
    "print(person.keys())  \n",
    "# Output: dict_keys(['name'])"
   ]
  },
  {
   "cell_type": "markdown",
   "id": "59f671e7-60d2-4501-a0b3-52c7c9d9a262",
   "metadata": {},
   "source": [
    "3. Getting All Key-Value Pairs (.items())"
   ]
  },
  {
   "cell_type": "code",
   "execution_count": 248,
   "id": "9fd88424-8b18-4165-b00f-472425a6f9c4",
   "metadata": {},
   "outputs": [
    {
     "name": "stdout",
     "output_type": "stream",
     "text": [
      "dict_items([('name', 'p'), ('age', 31)])\n"
     ]
    }
   ],
   "source": [
    "print(person.items())  "
   ]
  },
  {
   "cell_type": "code",
   "execution_count": 252,
   "id": "9c8192df-3131-4459-9e5d-246a5bf36807",
   "metadata": {},
   "outputs": [
    {
     "name": "stdout",
     "output_type": "stream",
     "text": [
      "dict_values(['p', 31])\n"
     ]
    }
   ],
   "source": [
    "print(person.values())  "
   ]
  },
  {
   "cell_type": "markdown",
   "id": "78591754-8e53-4efb-9a6b-b6acdc16ca29",
   "metadata": {},
   "source": [
    "# Looping Through a Dictionary"
   ]
  },
  {
   "cell_type": "code",
   "execution_count": 255,
   "id": "f6ded7de-9425-413d-8c26-8b658e114279",
   "metadata": {},
   "outputs": [
    {
     "name": "stdout",
     "output_type": "stream",
     "text": [
      "name\n",
      "age\n"
     ]
    }
   ],
   "source": [
    "for key in person:\n",
    "    print(key)"
   ]
  },
  {
   "cell_type": "code",
   "execution_count": 267,
   "id": "c06ad98c-feaf-4fb0-8d75-d995d5d9f397",
   "metadata": {},
   "outputs": [
    {
     "name": "stdout",
     "output_type": "stream",
     "text": [
      "p\n",
      "31\n"
     ]
    }
   ],
   "source": [
    "for value in person.values():\n",
    "    print(value)"
   ]
  },
  {
   "cell_type": "code",
   "execution_count": 269,
   "id": "5564cba0-15bf-4154-b1f9-d03471c16ccd",
   "metadata": {},
   "outputs": [
    {
     "name": "stdout",
     "output_type": "stream",
     "text": [
      "name: p\n",
      "age: 31\n"
     ]
    }
   ],
   "source": [
    "for key, value in person.items():\n",
    "    print(f\"{key}: {value}\")"
   ]
  },
  {
   "cell_type": "markdown",
   "id": "d2a685db-24cc-4df1-b9bd-50901f145761",
   "metadata": {},
   "source": []
  }
 ],
 "metadata": {
  "kernelspec": {
   "display_name": "Python [conda env:base] *",
   "language": "python",
   "name": "conda-base-py"
  },
  "language_info": {
   "codemirror_mode": {
    "name": "ipython",
    "version": 3
   },
   "file_extension": ".py",
   "mimetype": "text/x-python",
   "name": "python",
   "nbconvert_exporter": "python",
   "pygments_lexer": "ipython3",
   "version": "3.12.7"
  }
 },
 "nbformat": 4,
 "nbformat_minor": 5
}
