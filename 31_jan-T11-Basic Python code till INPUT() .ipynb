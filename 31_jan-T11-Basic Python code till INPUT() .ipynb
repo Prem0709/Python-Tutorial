{
 "cells": [
  {
   "cell_type": "markdown",
   "id": "c35b6e5b-07c7-4657-9b85-b05f12571980",
   "metadata": {},
   "source": [
    "# 31_jun 2025\n",
    "# T11-Basic Python code till INPUT() "
   ]
  },
  {
   "cell_type": "markdown",
   "id": "1b3e8379-6bb6-4a95-9bc0-c11843f39702",
   "metadata": {},
   "source": [
    "1. Importing whole modules\n",
    "2. Importing specific functions\n",
    "3. Using aliases (as)\n",
    "4. Importing multiple modules\n",
    "5. Importing everything (*)\n",
    "6. Using imported modules with input()"
   ]
  },
  {
   "cell_type": "code",
   "execution_count": 4,
   "id": "dd0a69d3-1a0d-4dda-abdc-13525c65615c",
   "metadata": {},
   "outputs": [],
   "source": [
    "import math"
   ]
  },
  {
   "cell_type": "code",
   "execution_count": 6,
   "id": "1a66a1ef-0a7b-47ed-b423-98fc1e7e849f",
   "metadata": {},
   "outputs": [
    {
     "name": "stdout",
     "output_type": "stream",
     "text": [
      "Square root of 16:  4.0\n"
     ]
    }
   ],
   "source": [
    "print(\"Square root of 16: \", math.sqrt(16))"
   ]
  },
  {
   "cell_type": "code",
   "execution_count": 8,
   "id": "7e75b209-3ed7-4f8f-8604-db720167826a",
   "metadata": {},
   "outputs": [
    {
     "name": "stdout",
     "output_type": "stream",
     "text": [
      "Value of Pi 3.141592653589793\n"
     ]
    }
   ],
   "source": [
    "print(\"Value of Pi\", math.pi)"
   ]
  },
  {
   "cell_type": "code",
   "execution_count": 10,
   "id": "f076b656-9202-49fc-b410-20404ad05d9f",
   "metadata": {},
   "outputs": [],
   "source": [
    "# Second Method"
   ]
  },
  {
   "cell_type": "code",
   "execution_count": 12,
   "id": "8ad2f21e-e859-40a7-acf0-3e9217071b91",
   "metadata": {},
   "outputs": [],
   "source": [
    "from math import sqrt, pi"
   ]
  },
  {
   "cell_type": "code",
   "execution_count": 14,
   "id": "893975f9-2c5e-4d04-91a8-3ff95930122f",
   "metadata": {},
   "outputs": [
    {
     "name": "stdout",
     "output_type": "stream",
     "text": [
      "Square Root of 25 :  5.0\n",
      "Value of pi is = :  3.141592653589793\n"
     ]
    }
   ],
   "source": [
    "print (\"Square Root of 25 : \", sqrt(25))\n",
    "print (\"Value of pi is = : \", pi)"
   ]
  },
  {
   "cell_type": "code",
   "execution_count": 16,
   "id": "1706089d-2fea-4021-95d1-e7ad2595f485",
   "metadata": {},
   "outputs": [],
   "source": [
    "# 3 method. Importing with an Alias (as)"
   ]
  },
  {
   "cell_type": "code",
   "execution_count": 18,
   "id": "ef3a9241-f931-4357-9358-3e2efb42ce95",
   "metadata": {},
   "outputs": [],
   "source": [
    "import math as m"
   ]
  },
  {
   "cell_type": "code",
   "execution_count": 20,
   "id": "51cf44ec-0bf2-4613-9df4-d6ef206cbfd8",
   "metadata": {},
   "outputs": [
    {
     "name": "stdout",
     "output_type": "stream",
     "text": [
      "cosine of 0: 1.0\n",
      "Factorial of 5: 120\n"
     ]
    }
   ],
   "source": [
    "print(\"cosine of 0:\", m.cos(0) )\n",
    "print(\"Factorial of 5:\", m.factorial(5))"
   ]
  },
  {
   "cell_type": "code",
   "execution_count": 22,
   "id": "729e11e2-4cc7-472e-a4d2-28015f5fef04",
   "metadata": {},
   "outputs": [],
   "source": [
    "# 4 Method. Importing Multiple Modules"
   ]
  },
  {
   "cell_type": "code",
   "execution_count": 26,
   "id": "bf41042d-8899-4346-8972-1b03bd1742b2",
   "metadata": {},
   "outputs": [
    {
     "name": "stdout",
     "output_type": "stream",
     "text": [
      "Random number between 1 and 10 3\n",
      "Cellimg value of 4.3: 5\n",
      "Floor value of 4.3: 4\n"
     ]
    }
   ],
   "source": [
    "import math, random\n",
    "print(\"Random number between 1 and 10\", random.randint(1,10))\n",
    "print(\"Cellimg value of 4.3:\", math.ceil(4.3))\n",
    "print(\"Floor value of 4.3:\", math.floor(4.3))"
   ]
  },
  {
   "cell_type": "code",
   "execution_count": 28,
   "id": "f197add7-44b7-41dc-a912-cd84685c56ed",
   "metadata": {},
   "outputs": [],
   "source": [
    "# 5 Method Importing Everything (*) from a Module"
   ]
  },
  {
   "cell_type": "code",
   "execution_count": 30,
   "id": "0e15cb51-b548-4716-853c-c9792a033b59",
   "metadata": {},
   "outputs": [],
   "source": [
    "from math import *"
   ]
  },
  {
   "cell_type": "code",
   "execution_count": 32,
   "id": "adc7ebbb-ba2e-4a3b-a287-820875b8f0f5",
   "metadata": {},
   "outputs": [
    {
     "name": "stdout",
     "output_type": "stream",
     "text": [
      "Log base 10 of 100 2.0\n",
      "Exponential of 2: 7.38905609893065\n",
      "Square root of 25: 5.0\n"
     ]
    }
   ],
   "source": [
    "print(\"Log base 10 of 100\", log10(100))\n",
    "print(\"Exponential of 2:\", exp(2))\n",
    "print(\"Square root of 25:\", sqrt(25))"
   ]
  },
  {
   "cell_type": "code",
   "execution_count": 34,
   "id": "75a44ad6-23fe-44ec-a8f0-ca23498e5aef",
   "metadata": {},
   "outputs": [],
   "source": [
    "# 6Method. Using import with input()"
   ]
  },
  {
   "cell_type": "code",
   "execution_count": 36,
   "id": "6d7c6e6e-8315-42b4-a476-0418fdddb85a",
   "metadata": {},
   "outputs": [
    {
     "name": "stdin",
     "output_type": "stream",
     "text": [
      "Enter a number:  121\n"
     ]
    },
    {
     "name": "stdout",
     "output_type": "stream",
     "text": [
      "Square root: 11.0\n"
     ]
    }
   ],
   "source": [
    "import math\n",
    "\n",
    "num = int(input(\"Enter a number: \"))\n",
    "print(\"Square root:\", math.sqrt(num))"
   ]
  },
  {
   "cell_type": "code",
   "execution_count": 38,
   "id": "4256a7c8-2746-48ab-965b-2b0d403d70d9",
   "metadata": {},
   "outputs": [],
   "source": [
    "# Example 7: Generating Random Numbers"
   ]
  },
  {
   "cell_type": "code",
   "execution_count": 44,
   "id": "7e7a1efa-0139-42ba-91f1-45ca976ef170",
   "metadata": {},
   "outputs": [
    {
     "name": "stdout",
     "output_type": "stream",
     "text": [
      "Random integer: 93\n",
      "Random choice: Cherry\n"
     ]
    }
   ],
   "source": [
    "import random\n",
    "\n",
    "print(\"Random integer:\", random.randint(1, 100))\n",
    "print(\"Random choice:\", random.choice([\"Apple\", \"Banana\", \"Cherry\"]))"
   ]
  },
  {
   "cell_type": "code",
   "execution_count": 46,
   "id": "2ad32549-9652-4897-b8c8-53561175609d",
   "metadata": {},
   "outputs": [],
   "source": [
    "# 8. Importing datetime Module"
   ]
  },
  {
   "cell_type": "code",
   "execution_count": 48,
   "id": "a6552af0-7817-4893-a11d-45f1246bbaa5",
   "metadata": {},
   "outputs": [],
   "source": [
    "import datetime"
   ]
  },
  {
   "cell_type": "code",
   "execution_count": 50,
   "id": "72a5fd4c-14f5-401a-a507-c65453c2d3b5",
   "metadata": {},
   "outputs": [
    {
     "name": "stdout",
     "output_type": "stream",
     "text": [
      "Current Date And Time is: 2025-02-02 15:38:47.547800\n"
     ]
    }
   ],
   "source": [
    "current_date = datetime.datetime.now()\n",
    "print(\"Current Date And Time is:\",current_date)"
   ]
  },
  {
   "cell_type": "code",
   "execution_count": 52,
   "id": "5e3ce48f-d9e9-4146-b0a3-a38767b5cbb7",
   "metadata": {},
   "outputs": [],
   "source": [
    "# 9. Importing os Module"
   ]
  },
  {
   "cell_type": "code",
   "execution_count": 54,
   "id": "2a56088a-53b1-4954-8d17-8561033b7d83",
   "metadata": {},
   "outputs": [],
   "source": [
    "import os"
   ]
  },
  {
   "cell_type": "code",
   "execution_count": 56,
   "id": "189a3e40-6d19-4359-a5b7-0ac804198c9a",
   "metadata": {},
   "outputs": [
    {
     "name": "stdout",
     "output_type": "stream",
     "text": [
      "Current Working Directory: C:\\Users\\pawar\\python_data_science\n"
     ]
    }
   ],
   "source": [
    "print(\"Current Working Directory:\", os.getcwd())"
   ]
  },
  {
   "cell_type": "code",
   "execution_count": 58,
   "id": "4f9109d7-d6c0-4e47-be2e-e5fe80c150cd",
   "metadata": {},
   "outputs": [],
   "source": [
    "# 10. Importing sys Module"
   ]
  },
  {
   "cell_type": "code",
   "execution_count": 60,
   "id": "d1aae442-4bec-4bc7-838e-ef078f5fa382",
   "metadata": {},
   "outputs": [],
   "source": [
    "import sys"
   ]
  },
  {
   "cell_type": "code",
   "execution_count": 62,
   "id": "3ac0c2f4-70b8-4b3f-8bcc-b28b80a7b5f1",
   "metadata": {},
   "outputs": [
    {
     "name": "stdout",
     "output_type": "stream",
     "text": [
      "Python Version: 3.12.7 | packaged by Anaconda, Inc. | (main, Oct  4 2024, 13:17:27) [MSC v.1929 64 bit (AMD64)]\n"
     ]
    }
   ],
   "source": [
    "print(\"Python Version:\",sys.version)"
   ]
  },
  {
   "cell_type": "code",
   "execution_count": 65,
   "id": "a0ade932-9c67-4462-bfce-1561380795f2",
   "metadata": {},
   "outputs": [],
   "source": [
    "# ."
   ]
  },
  {
   "cell_type": "code",
   "execution_count": 67,
   "id": "29d4a870-500c-4f3e-b4d6-9bedd341d13e",
   "metadata": {},
   "outputs": [],
   "source": [
    "# ."
   ]
  },
  {
   "cell_type": "code",
   "execution_count": 69,
   "id": "bf98d606-5c32-442a-8aa3-c38e2f30f493",
   "metadata": {},
   "outputs": [],
   "source": [
    "# ."
   ]
  },
  {
   "cell_type": "markdown",
   "id": "aaf81f78-9d8d-44a4-8168-852383ea5973",
   "metadata": {},
   "source": [
    "# Now some differnt method we see"
   ]
  },
  {
   "cell_type": "code",
   "execution_count": 75,
   "id": "11b28911-2813-41d4-846c-dbc23edf8e3f",
   "metadata": {},
   "outputs": [
    {
     "data": {
      "text/plain": [
       "8.0"
      ]
     },
     "execution_count": 75,
     "metadata": {},
     "output_type": "execute_result"
    }
   ],
   "source": [
    "from math import sqrt,pow # math has many function if you want to call specific function then you use from \n",
    "pow(2,3)"
   ]
  },
  {
   "cell_type": "code",
   "execution_count": 77,
   "id": "74821190-6301-4e8e-92ee-1599b2e64f92",
   "metadata": {},
   "outputs": [],
   "source": [
    "# it is \n",
    "# pow(x, y) calculates x raised to the power of y, which means:\n",
    "# 2^3 =2×2×2=8"
   ]
  },
  {
   "cell_type": "code",
   "execution_count": 79,
   "id": "bc54cbfa-2325-413a-b9f3-95fce0323eed",
   "metadata": {},
   "outputs": [
    {
     "data": {
      "text/plain": [
       "8"
      ]
     },
     "execution_count": 79,
     "metadata": {},
     "output_type": "execute_result"
    }
   ],
   "source": [
    "round(pow(2,3))"
   ]
  },
  {
   "cell_type": "markdown",
   "id": "64c8b59a-93cb-4f73-8f0f-793004f2041b",
   "metadata": {},
   "source": [
    "### user input function in python || command line input"
   ]
  },
  {
   "cell_type": "code",
   "execution_count": 82,
   "id": "0ae770e4-83d8-41b2-82e3-f57e2f89e93d",
   "metadata": {},
   "outputs": [
    {
     "name": "stdin",
     "output_type": "stream",
     "text": [
      " 12\n",
      " 23\n"
     ]
    },
    {
     "name": "stdout",
     "output_type": "stream",
     "text": [
      "1223\n"
     ]
    }
   ],
   "source": [
    "x = input()\n",
    "y = input()\n",
    "z = x + y\n",
    "print(z)"
   ]
  },
  {
   "cell_type": "code",
   "execution_count": 84,
   "id": "0dac550c-30d9-4775-aa32-7ac6f05fc685",
   "metadata": {},
   "outputs": [
    {
     "data": {
      "text/plain": [
       "str"
      ]
     },
     "execution_count": 84,
     "metadata": {},
     "output_type": "execute_result"
    }
   ],
   "source": [
    "type(z)"
   ]
  },
  {
   "cell_type": "code",
   "execution_count": 88,
   "id": "e6562f31-3a20-424d-9163-c03669f800ad",
   "metadata": {},
   "outputs": [],
   "source": [
    "# so value are join not add\n",
    "# Means they are concatenated as strings"
   ]
  },
  {
   "cell_type": "code",
   "execution_count": 90,
   "id": "52e42c6d-ad08-4440-a1b4-05dbb3d05414",
   "metadata": {},
   "outputs": [
    {
     "name": "stdin",
     "output_type": "stream",
     "text": [
      "Enter the 1st number 12\n",
      "Enter the 2nd number 23\n"
     ]
    },
    {
     "name": "stdout",
     "output_type": "stream",
     "text": [
      "1223\n"
     ]
    },
    {
     "data": {
      "text/plain": [
       "str"
      ]
     },
     "execution_count": 90,
     "metadata": {},
     "output_type": "execute_result"
    }
   ],
   "source": [
    "x1 = input('Enter the 1st number')\n",
    "y1 = input('Enter the 2nd number')\n",
    "z1 = x1 + y1\n",
    "print(z1)\n",
    "type(z1)"
   ]
  },
  {
   "cell_type": "code",
   "execution_count": 104,
   "id": "eec60739-11b7-4652-b433-5467e1ffb270",
   "metadata": {},
   "outputs": [
    {
     "name": "stdout",
     "output_type": "stream",
     "text": [
      "<class 'tuple'>\n"
     ]
    }
   ],
   "source": [
    "print(type(int))"
   ]
  },
  {
   "cell_type": "code",
   "execution_count": 106,
   "id": "7f38e2c7-4dcf-4722-9d16-b6af58d35b63",
   "metadata": {},
   "outputs": [],
   "source": [
    "del int"
   ]
  },
  {
   "cell_type": "code",
   "execution_count": 108,
   "id": "b938bc18-dd25-4f60-8569-31ee92dbb0fc",
   "metadata": {},
   "outputs": [
    {
     "name": "stdout",
     "output_type": "stream",
     "text": [
      "<class 'type'>\n"
     ]
    }
   ],
   "source": [
    "print(type(int))"
   ]
  },
  {
   "cell_type": "code",
   "execution_count": 110,
   "id": "114db736-b273-4bff-897a-ed89ffe20543",
   "metadata": {},
   "outputs": [
    {
     "name": "stdin",
     "output_type": "stream",
     "text": [
      "Enter the 1st number:  12\n",
      "Enter the 2nd number:  21\n"
     ]
    },
    {
     "name": "stdout",
     "output_type": "stream",
     "text": [
      "Sum: 33\n",
      "Type of z1: <class 'int'>\n"
     ]
    }
   ],
   "source": [
    "x1 = int(input('Enter the 1st number: ')) \n",
    "y1 = int(input('Enter the 2nd number: '))  \n",
    "z1 = x1 + y1 \n",
    "\n",
    "print(\"Sum:\", z1)\n",
    "print(\"Type of z1:\", type(z1))\n"
   ]
  },
  {
   "cell_type": "code",
   "execution_count": 112,
   "id": "b3677ae1-75cd-4f3e-b565-c5025ea20775",
   "metadata": {},
   "outputs": [
    {
     "name": "stdin",
     "output_type": "stream",
     "text": [
      "Enter the 1st number 23\n",
      "Enter the 2nd number 45\n"
     ]
    },
    {
     "name": "stdout",
     "output_type": "stream",
     "text": [
      "68\n"
     ]
    }
   ],
   "source": [
    "x1 = input('Enter the 1st number') \n",
    "a1 = int(x1)\n",
    "y1 = input('Enter the 2nd number') \n",
    "b1 = int(y1)\n",
    "z1 = a1 + b1\n",
    "print(z1)"
   ]
  },
  {
   "cell_type": "code",
   "execution_count": 114,
   "id": "daca1e95-8e8e-4fb2-8b1d-a4b034b40a08",
   "metadata": {},
   "outputs": [
    {
     "name": "stdin",
     "output_type": "stream",
     "text": [
      "enter a char Prem\n"
     ]
    },
    {
     "name": "stdout",
     "output_type": "stream",
     "text": [
      "Prem\n"
     ]
    }
   ],
   "source": [
    "ch = input('enter a char')\n",
    "print(ch)"
   ]
  },
  {
   "cell_type": "code",
   "execution_count": 120,
   "id": "8b786345-27f8-4e37-adaf-7b8709c771bf",
   "metadata": {},
   "outputs": [
    {
     "name": "stdout",
     "output_type": "stream",
     "text": [
      "P\n"
     ]
    }
   ],
   "source": [
    "print(ch[0])"
   ]
  },
  {
   "cell_type": "code",
   "execution_count": 122,
   "id": "755ef92e-bf28-45d6-9876-b639a3e32cb2",
   "metadata": {},
   "outputs": [],
   "source": [
    "# ."
   ]
  },
  {
   "cell_type": "code",
   "execution_count": 124,
   "id": "d07f60f7-22b9-494c-b9f9-e461b7e8d9de",
   "metadata": {},
   "outputs": [],
   "source": [
    "# ."
   ]
  },
  {
   "cell_type": "code",
   "execution_count": 126,
   "id": "b56b09ad-0597-4644-a5e7-6f9453012901",
   "metadata": {},
   "outputs": [
    {
     "name": "stdin",
     "output_type": "stream",
     "text": [
      "enter a char P\n"
     ]
    },
    {
     "name": "stdout",
     "output_type": "stream",
     "text": [
      "P\n"
     ]
    }
   ],
   "source": [
    "ch = input('enter a char')[0]\n",
    "print(ch)"
   ]
  },
  {
   "cell_type": "code",
   "execution_count": 128,
   "id": "add5c14d-799a-4539-8377-1c8c3dd7cada",
   "metadata": {},
   "outputs": [
    {
     "data": {
      "text/plain": [
       "'P'"
      ]
     },
     "execution_count": 128,
     "metadata": {},
     "output_type": "execute_result"
    }
   ],
   "source": [
    "ch"
   ]
  },
  {
   "cell_type": "code",
   "execution_count": 130,
   "id": "dfa22b11-e013-4bfe-b547-0d803a2efaeb",
   "metadata": {},
   "outputs": [],
   "source": [
    "# EVAL function using input"
   ]
  },
  {
   "cell_type": "code",
   "execution_count": 132,
   "id": "480d344c-80ee-4826-a942-5edaaef8e399",
   "metadata": {},
   "outputs": [
    {
     "name": "stdin",
     "output_type": "stream",
     "text": [
      "enter an expr 2+5*2\n"
     ]
    },
    {
     "name": "stdout",
     "output_type": "stream",
     "text": [
      "12\n"
     ]
    }
   ],
   "source": [
    "result = eval(input('enter an expr'))\n",
    "print(result)"
   ]
  },
  {
   "cell_type": "code",
   "execution_count": 134,
   "id": "a19a6c68-fc25-4f4c-bc52-d2fe1cbff99c",
   "metadata": {},
   "outputs": [
    {
     "name": "stdin",
     "output_type": "stream",
     "text": [
      "Enter an expression using x and y:  x + y *5\n"
     ]
    },
    {
     "name": "stdout",
     "output_type": "stream",
     "text": [
      "Result: 35\n"
     ]
    }
   ],
   "source": [
    "x = 10\n",
    "y = 5\n",
    "expr = input(\"Enter an expression using x and y: \")  # Example: x + y * 2\n",
    "result = eval(expr)\n",
    "print(\"Result:\", result)\n"
   ]
  },
  {
   "cell_type": "code",
   "execution_count": 136,
   "id": "705b0611-6a39-46af-9d2b-6d4e13b97f8d",
   "metadata": {},
   "outputs": [
    {
     "name": "stdin",
     "output_type": "stream",
     "text": [
      "Enter an expression (you can use square(n)):  square(4) + 2\n"
     ]
    },
    {
     "name": "stdout",
     "output_type": "stream",
     "text": [
      "Result: 18\n"
     ]
    }
   ],
   "source": [
    "def square(n):\n",
    "    return n * n\n",
    "\n",
    "expr = input(\"Enter an expression (you can use square(n)): \")  \n",
    "result = eval(expr)\n",
    "print(\"Result:\", result)"
   ]
  },
  {
   "cell_type": "code",
   "execution_count": null,
   "id": "d50c2924-226c-4a1b-9c36-2a00afeab886",
   "metadata": {},
   "outputs": [],
   "source": []
  }
 ],
 "metadata": {
  "kernelspec": {
   "display_name": "Python [conda env:base] *",
   "language": "python",
   "name": "conda-base-py"
  },
  "language_info": {
   "codemirror_mode": {
    "name": "ipython",
    "version": 3
   },
   "file_extension": ".py",
   "mimetype": "text/x-python",
   "name": "python",
   "nbconvert_exporter": "python",
   "pygments_lexer": "ipython3",
   "version": "3.12.7"
  }
 },
 "nbformat": 4,
 "nbformat_minor": 5
}
